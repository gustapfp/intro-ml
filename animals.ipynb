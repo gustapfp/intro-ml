{
  "nbformat": 4,
  "nbformat_minor": 0,
  "metadata": {
    "colab": {
      "name": "animals",
      "provenance": [],
      "collapsed_sections": []
    },
    "kernelspec": {
      "name": "python3",
      "display_name": "Python 3"
    },
    "language_info": {
      "name": "python"
    }
  },
  "cells": [
    {
      "cell_type": "markdown",
      "metadata": {
        "id": "3H17ufBgy5x7"
      },
      "source": [
        "Features (1 => Yes | 0 => No)\n",
        "\n",
        "\n",
        "\n",
        "*   Has long hair? \n",
        "*   Have short legs?\n",
        "*   The animals barks?\n",
        "\n",
        "\n",
        "\n"
      ]
    },
    {
      "cell_type": "code",
      "metadata": {
        "id": "l7k7oEeYyfrP"
      },
      "source": [
        "# Pigs features\n",
        "\n",
        "pig1 = [1, 1, 0]\n",
        "pig2 = [0, 1, 0]\n",
        "pig3 = [0, 1, 1]\n",
        "\n",
        "# Dogs features\n",
        "dog1 = [0, 1, 1]\n",
        "dog2 = [1, 0, 1]\n",
        "dog3 = [1, 1, 1]\n"
      ],
      "execution_count": 5,
      "outputs": []
    },
    {
      "cell_type": "markdown",
      "metadata": {
        "id": "k7lRX1fO1roT"
      },
      "source": [
        "Categories ( 1 => Pig | 0 => Dog)"
      ]
    },
    {
      "cell_type": "code",
      "metadata": {
        "id": "KkwzuOtf1plQ"
      },
      "source": [
        "x_train = [pig1, pig2, pig3, dog1, dog2, dog3]\n",
        "y_train = [1, 1, 1, 0, 0, 0] # labels"
      ],
      "execution_count": 6,
      "outputs": []
    },
    {
      "cell_type": "code",
      "metadata": {
        "colab": {
          "base_uri": "https://localhost:8080/"
        },
        "id": "ugP7E2zt2_Vo",
        "outputId": "7d066732-15ec-416c-c040-5dc0f70e0edf"
      },
      "source": [
        "from sklearn.svm import LinearSVC\n",
        "f_train = LinearSVC()\n",
        "f_train.fit(x_train, y_train)"
      ],
      "execution_count": 7,
      "outputs": [
        {
          "output_type": "execute_result",
          "data": {
            "text/plain": [
              "LinearSVC(C=1.0, class_weight=None, dual=True, fit_intercept=True,\n",
              "          intercept_scaling=1, loss='squared_hinge', max_iter=1000,\n",
              "          multi_class='ovr', penalty='l2', random_state=None, tol=0.0001,\n",
              "          verbose=0)"
            ]
          },
          "metadata": {
            "tags": []
          },
          "execution_count": 7
        }
      ]
    },
    {
      "cell_type": "code",
      "metadata": {
        "colab": {
          "base_uri": "https://localhost:8080/"
        },
        "id": "9Wubzd0R3EEo",
        "outputId": "224fda3b-3fa0-4cf7-c2aa-daa7ba3acc1b"
      },
      "source": [
        "mysterious_animals = [1,1,1]\n",
        "f_train.predict([mysterious_animals])"
      ],
      "execution_count": 8,
      "outputs": [
        {
          "output_type": "execute_result",
          "data": {
            "text/plain": [
              "array([0])"
            ]
          },
          "metadata": {
            "tags": []
          },
          "execution_count": 8
        }
      ]
    },
    {
      "cell_type": "code",
      "metadata": {
        "id": "KVdhxmEm8aJd"
      },
      "source": [
        "mysterious1 = [1, 1, 1]\n",
        "mysterious2 = [1, 1, 0]\n",
        "mysterious3 = [0, 1, 1]\n",
        "\n",
        "tests_x = [mysterious1, mysterious2, mysterious3]\n",
        "tests_y = [0, 1, 1] # original answers\n"
      ],
      "execution_count": 9,
      "outputs": []
    },
    {
      "cell_type": "code",
      "metadata": {
        "id": "WUpi85wn7DFp"
      },
      "source": [
        "animals_predictions = f_train.predict(tests_x)"
      ],
      "execution_count": 11,
      "outputs": []
    },
    {
      "cell_type": "code",
      "metadata": {
        "colab": {
          "base_uri": "https://localhost:8080/"
        },
        "id": "3hyMe4mi-Roh",
        "outputId": "8da26af4-efab-44e2-ae57-214c8250547b"
      },
      "source": [
        "right_answers = (tests_y == animals_predictions).sum()\n",
        "attempts = len(tests_x)\n",
        "model_accuracy = right_answers/attempts\n",
        "model_accuracy"
      ],
      "execution_count": 16,
      "outputs": [
        {
          "output_type": "execute_result",
          "data": {
            "text/plain": [
              "0.6666666666666666"
            ]
          },
          "metadata": {
            "tags": []
          },
          "execution_count": 16
        }
      ]
    },
    {
      "cell_type": "code",
      "metadata": {
        "colab": {
          "base_uri": "https://localhost:8080/"
        },
        "id": "Y3WIJO-KAOey",
        "outputId": "0a4c3767-8f54-48e3-edf6-d8e19eadf145"
      },
      "source": [
        "from sklearn.metrics import accuracy_score\n",
        "\n",
        "print(f' accuracy: {accuracy_score(tests_y, animals_predictions)*100 }')\n"
      ],
      "execution_count": 19,
      "outputs": [
        {
          "output_type": "stream",
          "text": [
            " accuracy: 66.66666666666666\n"
          ],
          "name": "stdout"
        }
      ]
    }
  ]
}