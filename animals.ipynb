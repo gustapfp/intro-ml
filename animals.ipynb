{
  "nbformat": 4,
  "nbformat_minor": 0,
  "metadata": {
    "colab": {
      "name": "animals",
      "provenance": [],
      "collapsed_sections": []
    },
    "kernelspec": {
      "name": "python3",
      "display_name": "Python 3"
    },
    "language_info": {
      "name": "python"
    }
  },
  "cells": [
    {
      "cell_type": "markdown",
      "metadata": {
        "id": "3H17ufBgy5x7"
      },
      "source": [
        "Features (1 => Yes | 0 => No)\n",
        "\n",
        "\n",
        "\n",
        "*   Has long hair? \n",
        "*   Have short legs?\n",
        "*   The animals barks?\n",
        "\n",
        "\n",
        "\n"
      ]
    },
    {
      "cell_type": "code",
      "metadata": {
        "id": "l7k7oEeYyfrP"
      },
      "source": [
        "# Pigs features\n",
        "\n",
        "pig1 = [1, 1, 0]\n",
        "pig2 = [0, 1, 0]\n",
        "pig3 = [0, 1, 1]\n",
        "\n",
        "# Dogs features\n",
        "dog1 = [0, 1, 1]\n",
        "dog2 = [1, 0, 1]\n",
        "dog3 = [1, 1, 1]\n"
      ],
      "execution_count": null,
      "outputs": []
    },
    {
      "cell_type": "markdown",
      "metadata": {
        "id": "k7lRX1fO1roT"
      },
      "source": [
        "Categories ( 1 => Pig | 0 => Dog)"
      ]
    },
    {
      "cell_type": "code",
      "metadata": {
        "id": "KkwzuOtf1plQ"
      },
      "source": [
        "animals_data = [pig1, pig2, pig3, dog1, dog2, dog3]\n",
        "categories = [1, 1, 1, 0, 0, 0]"
      ],
      "execution_count": null,
      "outputs": []
    },
    {
      "cell_type": "code",
      "metadata": {
        "colab": {
          "base_uri": "https://localhost:8080/"
        },
        "id": "ugP7E2zt2_Vo",
        "outputId": "96781fe9-1cf2-4aa3-9e4c-814d09050e94"
      },
      "source": [
        "from sklearn.svm import LinearSVC\n",
        "model = LinearSVC()\n",
        "model.fit(animals_data, categories)"
      ],
      "execution_count": null,
      "outputs": [
        {
          "output_type": "execute_result",
          "data": {
            "text/plain": [
              "LinearSVC(C=1.0, class_weight=None, dual=True, fit_intercept=True,\n",
              "          intercept_scaling=1, loss='squared_hinge', max_iter=1000,\n",
              "          multi_class='ovr', penalty='l2', random_state=None, tol=0.0001,\n",
              "          verbose=0)"
            ]
          },
          "metadata": {
            "tags": []
          },
          "execution_count": 8
        }
      ]
    },
    {
      "cell_type": "code",
      "metadata": {
        "colab": {
          "base_uri": "https://localhost:8080/"
        },
        "id": "9Wubzd0R3EEo",
        "outputId": "0379174e-c22b-45c7-e95b-c5c07c362196"
      },
      "source": [
        "mysterious_animals = [1,1,1]\n",
        "model.predict([mysterious_animals])"
      ],
      "execution_count": null,
      "outputs": [
        {
          "output_type": "execute_result",
          "data": {
            "text/plain": [
              "array([0])"
            ]
          },
          "metadata": {
            "tags": []
          },
          "execution_count": 10
        }
      ]
    },
    {
      "cell_type": "code",
      "metadata": {
        "id": "KVdhxmEm8aJd"
      },
      "source": [
        "mysterious1 = [1, 1, 1]\n",
        "mysterious2 = [1, 1, 0]\n",
        "mysterious3 = [0, 1, 1]\n",
        "\n",
        "tests = [mysterious1, mysterious2, mysterious3]\n",
        "\n",
        "animals_predictions = model.predict(tests)\n",
        "tests_answers = [0, 1, 1]\n"
      ],
      "execution_count": null,
      "outputs": []
    },
    {
      "cell_type": "code",
      "metadata": {
        "colab": {
          "base_uri": "https://localhost:8080/"
        },
        "id": "3hyMe4mi-Roh",
        "outputId": "97b88817-3d06-4556-c981-f1af6fe49fe8"
      },
      "source": [
        "tests_answers == animals_predictions\n",
        "\n",
        "right_answers = (tests_answers == animals_predictions).sum()\n",
        "attempts = len(tests_answers)\n",
        "model_accuracy = right_answers/attempts\n",
        "model_accuracy"
      ],
      "execution_count": null,
      "outputs": [
        {
          "output_type": "execute_result",
          "data": {
            "text/plain": [
              "0.6666666666666666"
            ]
          },
          "metadata": {
            "tags": []
          },
          "execution_count": 24
        }
      ]
    },
    {
      "cell_type": "code",
      "metadata": {
        "colab": {
          "base_uri": "https://localhost:8080/"
        },
        "id": "Y3WIJO-KAOey",
        "outputId": "231fcef2-5c5b-40f1-fcec-f1068a2df4b9"
      },
      "source": [
        "from sklearn.metrics import accuracy_score\n",
        "\n",
        "accuracy_score(tests_answer, animals_predictions)"
      ],
      "execution_count": null,
      "outputs": [
        {
          "output_type": "execute_result",
          "data": {
            "text/plain": [
              "0.6666666666666666"
            ]
          },
          "metadata": {
            "tags": []
          },
          "execution_count": 27
        }
      ]
    }
  ]
}